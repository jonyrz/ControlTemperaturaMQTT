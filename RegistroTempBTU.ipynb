{
 "cells": [
  {
   "cell_type": "code",
   "execution_count": 14,
   "metadata": {},
   "outputs": [],
   "source": [
    "import csv\n",
    "import pandas as pd\n",
    "import matplotlib.pyplot as plt"
   ]
  },
  {
   "cell_type": "code",
   "execution_count": 15,
   "metadata": {},
   "outputs": [],
   "source": [
    "df = pd.read_excel(r\"C:\\Users\\6QV38LA_RS6\\OneDrive\\Documentos\\Python Scripts\\Proyecto IoT\\DatosBTU.xlsx\")"
   ]
  },
  {
   "cell_type": "code",
   "execution_count": 16,
   "metadata": {},
   "outputs": [
    {
     "data": {
      "text/html": [
       "<div>\n",
       "<style scoped>\n",
       "    .dataframe tbody tr th:only-of-type {\n",
       "        vertical-align: middle;\n",
       "    }\n",
       "\n",
       "    .dataframe tbody tr th {\n",
       "        vertical-align: top;\n",
       "    }\n",
       "\n",
       "    .dataframe thead th {\n",
       "        text-align: right;\n",
       "    }\n",
       "</style>\n",
       "<table border=\"1\" class=\"dataframe\">\n",
       "  <thead>\n",
       "    <tr style=\"text-align: right;\">\n",
       "      <th></th>\n",
       "      <th>Fecha/hora</th>\n",
       "      <th>Temperatura</th>\n",
       "      <th>BTU</th>\n",
       "      <th>Ocupación</th>\n",
       "      <th>Cambio de aire</th>\n",
       "      <th>Cambio de aire.1</th>\n",
       "      <th>Eliminacion de calor</th>\n",
       "    </tr>\n",
       "  </thead>\n",
       "  <tbody>\n",
       "    <tr>\n",
       "      <th>0</th>\n",
       "      <td>2020-06-01 00:45:00</td>\n",
       "      <td>23.76</td>\n",
       "      <td>42.767997</td>\n",
       "      <td>1</td>\n",
       "      <td>4</td>\n",
       "      <td>8</td>\n",
       "      <td>5.582706</td>\n",
       "    </tr>\n",
       "    <tr>\n",
       "      <th>1</th>\n",
       "      <td>2020-06-01 01:43:00</td>\n",
       "      <td>23.71</td>\n",
       "      <td>42.677997</td>\n",
       "      <td>2</td>\n",
       "      <td>4</td>\n",
       "      <td>8</td>\n",
       "      <td>5.610506</td>\n",
       "    </tr>\n",
       "    <tr>\n",
       "      <th>2</th>\n",
       "      <td>2020-06-01 02:41:00</td>\n",
       "      <td>23.67</td>\n",
       "      <td>42.605997</td>\n",
       "      <td>1</td>\n",
       "      <td>4</td>\n",
       "      <td>8</td>\n",
       "      <td>5.633032</td>\n",
       "    </tr>\n",
       "    <tr>\n",
       "      <th>3</th>\n",
       "      <td>2020-06-01 03:41:00</td>\n",
       "      <td>23.62</td>\n",
       "      <td>42.515997</td>\n",
       "      <td>2</td>\n",
       "      <td>4</td>\n",
       "      <td>8</td>\n",
       "      <td>5.661553</td>\n",
       "    </tr>\n",
       "    <tr>\n",
       "      <th>4</th>\n",
       "      <td>2020-06-01 04:40:00</td>\n",
       "      <td>23.57</td>\n",
       "      <td>42.425997</td>\n",
       "      <td>1</td>\n",
       "      <td>4</td>\n",
       "      <td>8</td>\n",
       "      <td>5.690487</td>\n",
       "    </tr>\n",
       "  </tbody>\n",
       "</table>\n",
       "</div>"
      ],
      "text/plain": [
       "           Fecha/hora  Temperatura        BTU  Ocupación  Cambio de aire  \\\n",
       "0 2020-06-01 00:45:00        23.76  42.767997          1               4   \n",
       "1 2020-06-01 01:43:00        23.71  42.677997          2               4   \n",
       "2 2020-06-01 02:41:00        23.67  42.605997          1               4   \n",
       "3 2020-06-01 03:41:00        23.62  42.515997          2               4   \n",
       "4 2020-06-01 04:40:00        23.57  42.425997          1               4   \n",
       "\n",
       "   Cambio de aire.1  Eliminacion de calor  \n",
       "0                 8              5.582706  \n",
       "1                 8              5.610506  \n",
       "2                 8              5.633032  \n",
       "3                 8              5.661553  \n",
       "4                 8              5.690487  "
      ]
     },
     "execution_count": 16,
     "metadata": {},
     "output_type": "execute_result"
    }
   ],
   "source": [
    "df.head()"
   ]
  },
  {
   "cell_type": "code",
   "execution_count": 17,
   "metadata": {},
   "outputs": [
    {
     "data": {
      "text/plain": [
       "Index(['Fecha/hora', 'Temperatura', 'BTU', 'Ocupación', 'Cambio de aire',\n",
       "       'Cambio de aire.1', 'Eliminacion de calor'],\n",
       "      dtype='object')"
      ]
     },
     "execution_count": 17,
     "metadata": {},
     "output_type": "execute_result"
    }
   ],
   "source": [
    "df.columns"
   ]
  },
  {
   "cell_type": "code",
   "execution_count": 18,
   "metadata": {},
   "outputs": [],
   "source": [
    "df = df.set_index(\"Fecha/hora\")"
   ]
  },
  {
   "cell_type": "code",
   "execution_count": 19,
   "metadata": {},
   "outputs": [
    {
     "data": {
      "text/plain": [
       "DatetimeIndex(['2020-06-01 00:45:00', '2020-06-01 01:43:00',\n",
       "               '2020-06-01 02:41:00', '2020-06-01 03:41:00',\n",
       "               '2020-06-01 04:40:00', '2020-06-01 05:40:00',\n",
       "               '2020-06-01 06:40:00', '2020-06-01 07:40:00',\n",
       "               '2020-06-01 08:40:00', '2020-06-01 09:40:00',\n",
       "               ...\n",
       "               '2020-06-15 14:46:00', '2020-06-15 15:52:00',\n",
       "               '2020-06-15 16:45:00', '2020-06-15 17:52:00',\n",
       "               '2020-06-15 18:52:00', '2020-06-15 19:55:00',\n",
       "               '2020-06-15 20:55:00', '2020-06-15 21:48:00',\n",
       "               '2020-06-15 22:55:00', '2020-06-15 23:52:00'],\n",
       "              dtype='datetime64[ns]', name='Fecha/hora', length=341, freq=None)"
      ]
     },
     "execution_count": 19,
     "metadata": {},
     "output_type": "execute_result"
    }
   ],
   "source": [
    "df.index"
   ]
  },
  {
   "cell_type": "code",
   "execution_count": 20,
   "metadata": {},
   "outputs": [],
   "source": [
    "df.index = pd.to_datetime(df.index)"
   ]
  },
  {
   "cell_type": "code",
   "execution_count": 21,
   "metadata": {},
   "outputs": [
    {
     "data": {
      "text/html": [
       "<div>\n",
       "<style scoped>\n",
       "    .dataframe tbody tr th:only-of-type {\n",
       "        vertical-align: middle;\n",
       "    }\n",
       "\n",
       "    .dataframe tbody tr th {\n",
       "        vertical-align: top;\n",
       "    }\n",
       "\n",
       "    .dataframe thead th {\n",
       "        text-align: right;\n",
       "    }\n",
       "</style>\n",
       "<table border=\"1\" class=\"dataframe\">\n",
       "  <thead>\n",
       "    <tr style=\"text-align: right;\">\n",
       "      <th></th>\n",
       "      <th>Temperatura</th>\n",
       "      <th>BTU</th>\n",
       "      <th>Ocupación</th>\n",
       "      <th>Cambio de aire</th>\n",
       "      <th>Cambio de aire.1</th>\n",
       "      <th>Eliminacion de calor</th>\n",
       "    </tr>\n",
       "    <tr>\n",
       "      <th>Fecha/hora</th>\n",
       "      <th></th>\n",
       "      <th></th>\n",
       "      <th></th>\n",
       "      <th></th>\n",
       "      <th></th>\n",
       "      <th></th>\n",
       "    </tr>\n",
       "  </thead>\n",
       "  <tbody>\n",
       "    <tr>\n",
       "      <th>2020-06-01 00:00:00</th>\n",
       "      <td>23.76</td>\n",
       "      <td>42.767997</td>\n",
       "      <td>1</td>\n",
       "      <td>4</td>\n",
       "      <td>8</td>\n",
       "      <td>5.582706</td>\n",
       "    </tr>\n",
       "    <tr>\n",
       "      <th>2020-06-01 01:00:00</th>\n",
       "      <td>23.71</td>\n",
       "      <td>42.677997</td>\n",
       "      <td>2</td>\n",
       "      <td>4</td>\n",
       "      <td>8</td>\n",
       "      <td>5.610506</td>\n",
       "    </tr>\n",
       "    <tr>\n",
       "      <th>2020-06-01 02:00:00</th>\n",
       "      <td>23.67</td>\n",
       "      <td>42.605997</td>\n",
       "      <td>1</td>\n",
       "      <td>4</td>\n",
       "      <td>8</td>\n",
       "      <td>5.633032</td>\n",
       "    </tr>\n",
       "    <tr>\n",
       "      <th>2020-06-01 03:00:00</th>\n",
       "      <td>23.62</td>\n",
       "      <td>42.515997</td>\n",
       "      <td>2</td>\n",
       "      <td>4</td>\n",
       "      <td>8</td>\n",
       "      <td>5.661553</td>\n",
       "    </tr>\n",
       "    <tr>\n",
       "      <th>2020-06-01 04:00:00</th>\n",
       "      <td>23.57</td>\n",
       "      <td>42.425997</td>\n",
       "      <td>1</td>\n",
       "      <td>4</td>\n",
       "      <td>8</td>\n",
       "      <td>5.690487</td>\n",
       "    </tr>\n",
       "    <tr>\n",
       "      <th>...</th>\n",
       "      <td>...</td>\n",
       "      <td>...</td>\n",
       "      <td>...</td>\n",
       "      <td>...</td>\n",
       "      <td>...</td>\n",
       "      <td>...</td>\n",
       "    </tr>\n",
       "    <tr>\n",
       "      <th>2020-06-15 19:00:00</th>\n",
       "      <td>25.09</td>\n",
       "      <td>45.161997</td>\n",
       "      <td>1</td>\n",
       "      <td>4</td>\n",
       "      <td>8</td>\n",
       "      <td>4.964384</td>\n",
       "    </tr>\n",
       "    <tr>\n",
       "      <th>2020-06-15 20:00:00</th>\n",
       "      <td>25.12</td>\n",
       "      <td>45.215997</td>\n",
       "      <td>2</td>\n",
       "      <td>4</td>\n",
       "      <td>8</td>\n",
       "      <td>4.952681</td>\n",
       "    </tr>\n",
       "    <tr>\n",
       "      <th>2020-06-15 21:00:00</th>\n",
       "      <td>25.15</td>\n",
       "      <td>45.269997</td>\n",
       "      <td>1</td>\n",
       "      <td>4</td>\n",
       "      <td>8</td>\n",
       "      <td>4.941061</td>\n",
       "    </tr>\n",
       "    <tr>\n",
       "      <th>2020-06-15 22:00:00</th>\n",
       "      <td>25.19</td>\n",
       "      <td>45.341997</td>\n",
       "      <td>2</td>\n",
       "      <td>4</td>\n",
       "      <td>8</td>\n",
       "      <td>4.925694</td>\n",
       "    </tr>\n",
       "    <tr>\n",
       "      <th>2020-06-15 23:00:00</th>\n",
       "      <td>25.22</td>\n",
       "      <td>45.395997</td>\n",
       "      <td>1</td>\n",
       "      <td>4</td>\n",
       "      <td>8</td>\n",
       "      <td>4.914263</td>\n",
       "    </tr>\n",
       "  </tbody>\n",
       "</table>\n",
       "<p>360 rows × 6 columns</p>\n",
       "</div>"
      ],
      "text/plain": [
       "                     Temperatura        BTU  Ocupación  Cambio de aire  \\\n",
       "Fecha/hora                                                               \n",
       "2020-06-01 00:00:00        23.76  42.767997          1               4   \n",
       "2020-06-01 01:00:00        23.71  42.677997          2               4   \n",
       "2020-06-01 02:00:00        23.67  42.605997          1               4   \n",
       "2020-06-01 03:00:00        23.62  42.515997          2               4   \n",
       "2020-06-01 04:00:00        23.57  42.425997          1               4   \n",
       "...                          ...        ...        ...             ...   \n",
       "2020-06-15 19:00:00        25.09  45.161997          1               4   \n",
       "2020-06-15 20:00:00        25.12  45.215997          2               4   \n",
       "2020-06-15 21:00:00        25.15  45.269997          1               4   \n",
       "2020-06-15 22:00:00        25.19  45.341997          2               4   \n",
       "2020-06-15 23:00:00        25.22  45.395997          1               4   \n",
       "\n",
       "                     Cambio de aire.1  Eliminacion de calor  \n",
       "Fecha/hora                                                   \n",
       "2020-06-01 00:00:00                 8              5.582706  \n",
       "2020-06-01 01:00:00                 8              5.610506  \n",
       "2020-06-01 02:00:00                 8              5.633032  \n",
       "2020-06-01 03:00:00                 8              5.661553  \n",
       "2020-06-01 04:00:00                 8              5.690487  \n",
       "...                               ...                   ...  \n",
       "2020-06-15 19:00:00                 8              4.964384  \n",
       "2020-06-15 20:00:00                 8              4.952681  \n",
       "2020-06-15 21:00:00                 8              4.941061  \n",
       "2020-06-15 22:00:00                 8              4.925694  \n",
       "2020-06-15 23:00:00                 8              4.914263  \n",
       "\n",
       "[360 rows x 6 columns]"
      ]
     },
     "execution_count": 21,
     "metadata": {},
     "output_type": "execute_result"
    }
   ],
   "source": [
    "df.resample(\"H\").sum()"
   ]
  },
  {
   "cell_type": "code",
   "execution_count": 22,
   "metadata": {},
   "outputs": [
    {
     "data": {
      "text/plain": [
       "[<matplotlib.lines.Line2D at 0x2261a5baf48>,\n",
       " <matplotlib.lines.Line2D at 0x2261a31b7c8>,\n",
       " <matplotlib.lines.Line2D at 0x2261a3166c8>,\n",
       " <matplotlib.lines.Line2D at 0x2261a35e4c8>,\n",
       " <matplotlib.lines.Line2D at 0x2261a360948>,\n",
       " <matplotlib.lines.Line2D at 0x2261a36e648>]"
      ]
     },
     "execution_count": 22,
     "metadata": {},
     "output_type": "execute_result"
    },
    {
     "data": {
      "image/png": "[encoded data removed]",
      "text/plain": [
       "<Figure size 432x288 with 1 Axes>"
      ]
     },
     "metadata": {
      "needs_background": "light"
     },
     "output_type": "display_data"
    }
   ],
   "source": [
    "plt.plot((df.resample(\"H\").sum()))"
   ]
  },
  {
   "cell_type": "code",
   "execution_count": 23,
   "metadata": {},
   "outputs": [
    {
     "data": {
      "text/plain": [
       "Fecha/hora\n",
       "2020-06-07    23.76\n",
       "2020-06-14    24.31\n",
       "2020-06-21    25.22\n",
       "Freq: W-SUN, Name: Temperatura, dtype: float64"
      ]
     },
     "execution_count": 23,
     "metadata": {},
     "output_type": "execute_result"
    }
   ],
   "source": [
    "df.resample(\"W\").max()[\"Temperatura\"]"
   ]
  },
  {
   "cell_type": "code",
   "execution_count": 24,
   "metadata": {},
   "outputs": [
    {
     "data": {
      "text/plain": [
       "[<matplotlib.lines.Line2D at 0x2261a628f48>]"
      ]
     },
     "execution_count": 24,
     "metadata": {},
     "output_type": "execute_result"
    },
    {
     "data": {
      "image/png": "[encoded data removed]",
      "text/plain": [
       "<Figure size 432x288 with 1 Axes>"
      ]
     },
     "metadata": {
      "needs_background": "light"
     },
     "output_type": "display_data"
    }
   ],
   "source": [
    "plt.plot(df.resample(\"W\").max()[\"Temperatura\"])"
   ]
  },
  {
   "cell_type": "code",
   "execution_count": 12,
   "metadata": {},
   "outputs": [
    {
     "data": {
      "text/plain": [
       "Fecha/hora\n",
       "2020-06-07    18.00\n",
       "2020-06-14    18.04\n",
       "2020-06-21    24.35\n",
       "Freq: W-SUN, Name: Temperatura, dtype: float64"
      ]
     },
     "execution_count": 12,
     "metadata": {},
     "output_type": "execute_result"
    }
   ],
   "source": [
    "df.resample(\"W\").min()[\"Temperatura\"]"
   ]
  },
  {
   "cell_type": "code",
   "execution_count": 13,
   "metadata": {},
   "outputs": [
    {
     "data": {
      "text/plain": [
       "[<matplotlib.lines.Line2D at 0x2261a547808>]"
      ]
     },
     "execution_count": 13,
     "metadata": {},
     "output_type": "execute_result"
    },
    {
     "data": {
      "image/png": "[encoded data removed]",
      "text/plain": [
       "<Figure size 432x288 with 1 Axes>"
      ]
     },
     "metadata": {
      "needs_background": "light"
     },
     "output_type": "display_data"
    }
   ],
   "source": [
    "plt.plot(df.resample(\"W\").min()[\"Temperatura\"])"
   ]
  },
  {
   "cell_type": "code",
   "execution_count": 14,
   "metadata": {},
   "outputs": [
    {
     "name": "stdout",
     "output_type": "stream",
     "text": [
      "Fecha/hora\n",
      "2020-06-01    16.833333\n",
      "2020-06-02    21.083333\n",
      "2020-06-03    19.041667\n",
      "2020-06-04    20.916667\n",
      "2020-06-05    21.750000\n",
      "2020-06-06    21.125000\n",
      "2020-06-07    21.541667\n",
      "2020-06-08    21.875000\n",
      "2020-06-09    20.625000\n",
      "2020-06-10    18.958333\n",
      "2020-06-11    18.791667\n",
      "2020-06-12    17.666667\n",
      "2020-06-13    10.791667\n",
      "2020-06-14    17.458333\n",
      "2020-06-15    18.916667\n",
      "Freq: D, Name: Temperatura, dtype: float64\n"
     ]
    }
   ],
   "source": [
    "print((df.resample(\"D\").sum()[\"Temperatura\"])/24)"
   ]
  },
  {
   "cell_type": "code",
   "execution_count": 28,
   "metadata": {},
   "outputs": [
    {
     "data": {
      "text/plain": [
       "Fecha/hora\n",
       "2020-06-07    22.499999\n",
       "2020-06-14    21.893203\n",
       "2020-06-21     5.281995\n",
       "Freq: W-SUN, Name: Eliminacion de calor, dtype: float64"
      ]
     },
     "execution_count": 28,
     "metadata": {},
     "output_type": "execute_result"
    }
   ],
   "source": [
    "df.resample(\"W\").max()[\"Eliminacion de calor\"]"
   ]
  },
  {
   "cell_type": "code",
   "execution_count": 29,
   "metadata": {},
   "outputs": [
    {
     "data": {
      "text/plain": [
       "[<matplotlib.lines.Line2D at 0x2261b846f48>]"
      ]
     },
     "execution_count": 29,
     "metadata": {},
     "output_type": "execute_result"
    },
    {
     "data": {
      "image/png": "[encoded data removed]",
      "text/plain": [
       "<Figure size 432x288 with 1 Axes>"
      ]
     },
     "metadata": {
      "needs_background": "light"
     },
     "output_type": "display_data"
    }
   ],
   "source": [
    "plt.plot(df.resample(\"W\").max()[\"Eliminacion de calor\"])"
   ]
  },
  {
   "cell_type": "code",
   "execution_count": 30,
   "metadata": {},
   "outputs": [
    {
     "data": {
      "text/plain": [
       "Fecha/hora\n",
       "2020-06-07    5.582706\n",
       "2020-06-14    5.300915\n",
       "2020-06-21    4.914263\n",
       "Freq: W-SUN, Name: Eliminacion de calor, dtype: float64"
      ]
     },
     "execution_count": 30,
     "metadata": {},
     "output_type": "execute_result"
    }
   ],
   "source": [
    "df.resample(\"W\").min()[\"Eliminacion de calor\"]"
   ]
  },
  {
   "cell_type": "code",
   "execution_count": 31,
   "metadata": {},
   "outputs": [
    {
     "data": {
      "text/plain": [
       "[<matplotlib.lines.Line2D at 0x2261b8bc0c8>]"
      ]
     },
     "execution_count": 31,
     "metadata": {},
     "output_type": "execute_result"
    },
    {
     "data": {
      "image/png": "[encoded data removed]",
      "text/plain": [
       "<Figure size 432x288 with 1 Axes>"
      ]
     },
     "metadata": {
      "needs_background": "light"
     },
     "output_type": "display_data"
    }
   ],
   "source": [
    "plt.plot(df.resample(\"W\").min()[\"Eliminacion de calor\"])"
   ]
  },
  {
   "cell_type": "code",
   "execution_count": null,
   "metadata": {},
   "outputs": [],
   "source": []
  }
 ],
 "metadata": {
  "kernelspec": {
   "display_name": "Python 3",
   "language": "python",
   "name": "python3"
  },
  "language_info": {
   "codemirror_mode": {
    "name": "ipython",
    "version": 3
   },
   "file_extension": ".py",
   "mimetype": "text/x-python",
   "name": "python",
   "nbconvert_exporter": "python",
   "pygments_lexer": "ipython3",
   "version": "3.7.6"
  }
 },
 "nbformat": 4,
 "nbformat_minor": 4
}
