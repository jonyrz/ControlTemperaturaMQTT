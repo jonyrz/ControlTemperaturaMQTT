{
 "cells": [
  {
   "cell_type": "code",
   "execution_count": 26,
   "metadata": {},
   "outputs": [],
   "source": [
    "import csv\n",
    "import pandas as pd\n",
    "import matplotlib.pyplot as plt"
   ]
  },
  {
   "cell_type": "code",
   "execution_count": 27,
   "metadata": {},
   "outputs": [],
   "source": [
    "df = pd.read_excel(r\"C:\\Users\\6QV38LA_RS6\\OneDrive\\Documentos\\Python Scripts\\Proyecto IoT\\DatosVentiladores.xlsx\", index_col=\"Ventiladores Convencionales\")"
   ]
  },
  {
   "cell_type": "code",
   "execution_count": 28,
   "metadata": {},
   "outputs": [
    {
     "data": {
      "text/html": [
       "<div>\n",
       "<style scoped>\n",
       "    .dataframe tbody tr th:only-of-type {\n",
       "        vertical-align: middle;\n",
       "    }\n",
       "\n",
       "    .dataframe tbody tr th {\n",
       "        vertical-align: top;\n",
       "    }\n",
       "\n",
       "    .dataframe thead th {\n",
       "        text-align: right;\n",
       "    }\n",
       "</style>\n",
       "<table border=\"1\" class=\"dataframe\">\n",
       "  <thead>\n",
       "    <tr style=\"text-align: right;\">\n",
       "      <th></th>\n",
       "      <th>PotenciaPromedio</th>\n",
       "    </tr>\n",
       "    <tr>\n",
       "      <th>Ventiladores Convencionales</th>\n",
       "      <th></th>\n",
       "    </tr>\n",
       "  </thead>\n",
       "  <tbody>\n",
       "    <tr>\n",
       "      <th>Mesa</th>\n",
       "      <td>45</td>\n",
       "    </tr>\n",
       "    <tr>\n",
       "      <th>Torre</th>\n",
       "      <td>65</td>\n",
       "    </tr>\n",
       "    <tr>\n",
       "      <th>Techo</th>\n",
       "      <td>70</td>\n",
       "    </tr>\n",
       "    <tr>\n",
       "      <th>Extractor</th>\n",
       "      <td>70</td>\n",
       "    </tr>\n",
       "  </tbody>\n",
       "</table>\n",
       "</div>"
      ],
      "text/plain": [
       "                             PotenciaPromedio \n",
       "Ventiladores Convencionales                   \n",
       "Mesa                                        45\n",
       "Torre                                       65\n",
       "Techo                                       70\n",
       "Extractor                                   70"
      ]
     },
     "execution_count": 28,
     "metadata": {},
     "output_type": "execute_result"
    }
   ],
   "source": [
    "df.head()"
   ]
  },
  {
   "cell_type": "code",
   "execution_count": 29,
   "metadata": {},
   "outputs": [],
   "source": [
    "muestra = df.copy()"
   ]
  },
  {
   "cell_type": "code",
   "execution_count": 30,
   "metadata": {},
   "outputs": [
    {
     "data": {
      "text/plain": [
       "<matplotlib.axes._subplots.AxesSubplot at 0x1d05a189948>"
      ]
     },
     "execution_count": 30,
     "metadata": {},
     "output_type": "execute_result"
    },
    {
     "data": {
      "image/png": "[encoded data removed]",
      "text/plain": [
       "<Figure size 432x288 with 1 Axes>"
      ]
     },
     "metadata": {
      "needs_background": "light"
     },
     "output_type": "display_data"
    }
   ],
   "source": [
    "muestra.plot(kind = 'bar', title=\"Consumo de cada ventilador\")"
   ]
  },
  {
   "cell_type": "code",
   "execution_count": 31,
   "metadata": {},
   "outputs": [],
   "source": [
    "df = pd.read_excel(r\"C:\\Users\\6QV38LA_RS6\\OneDrive\\Documentos\\Python Scripts\\Proyecto IoT\\DatosVentiladoresTot.xlsx\", index_col=\"Ventiladores Convencionales\")"
   ]
  },
  {
   "cell_type": "code",
   "execution_count": 32,
   "metadata": {},
   "outputs": [
    {
     "data": {
      "text/html": [
       "<div>\n",
       "<style scoped>\n",
       "    .dataframe tbody tr th:only-of-type {\n",
       "        vertical-align: middle;\n",
       "    }\n",
       "\n",
       "    .dataframe tbody tr th {\n",
       "        vertical-align: top;\n",
       "    }\n",
       "\n",
       "    .dataframe thead th {\n",
       "        text-align: right;\n",
       "    }\n",
       "</style>\n",
       "<table border=\"1\" class=\"dataframe\">\n",
       "  <thead>\n",
       "    <tr style=\"text-align: right;\">\n",
       "      <th></th>\n",
       "      <th>TiempoxDia</th>\n",
       "      <th>Costo Bas</th>\n",
       "      <th>Costo Int</th>\n",
       "      <th>Costo Exce</th>\n",
       "    </tr>\n",
       "    <tr>\n",
       "      <th>Ventiladores Convencionales</th>\n",
       "      <th></th>\n",
       "      <th></th>\n",
       "      <th></th>\n",
       "      <th></th>\n",
       "    </tr>\n",
       "  </thead>\n",
       "  <tbody>\n",
       "    <tr>\n",
       "      <th>Mesa</th>\n",
       "      <td>6</td>\n",
       "      <td>0.22707</td>\n",
       "      <td>0.27432</td>\n",
       "      <td>0.80352</td>\n",
       "    </tr>\n",
       "    <tr>\n",
       "      <th>Torre</th>\n",
       "      <td>6</td>\n",
       "      <td>0.32799</td>\n",
       "      <td>0.39624</td>\n",
       "      <td>1.16064</td>\n",
       "    </tr>\n",
       "    <tr>\n",
       "      <th>Techo</th>\n",
       "      <td>6</td>\n",
       "      <td>0.35322</td>\n",
       "      <td>0.42672</td>\n",
       "      <td>1.24992</td>\n",
       "    </tr>\n",
       "    <tr>\n",
       "      <th>Extractor</th>\n",
       "      <td>6</td>\n",
       "      <td>0.35322</td>\n",
       "      <td>0.42672</td>\n",
       "      <td>1.24992</td>\n",
       "    </tr>\n",
       "  </tbody>\n",
       "</table>\n",
       "</div>"
      ],
      "text/plain": [
       "                             TiempoxDia  Costo Bas  Costo Int  Costo Exce\n",
       "Ventiladores Convencionales                                              \n",
       "Mesa                                  6    0.22707    0.27432     0.80352\n",
       "Torre                                 6    0.32799    0.39624     1.16064\n",
       "Techo                                 6    0.35322    0.42672     1.24992\n",
       "Extractor                             6    0.35322    0.42672     1.24992"
      ]
     },
     "execution_count": 32,
     "metadata": {},
     "output_type": "execute_result"
    }
   ],
   "source": [
    "df.head()"
   ]
  },
  {
   "cell_type": "code",
   "execution_count": 33,
   "metadata": {},
   "outputs": [],
   "source": [
    "muestra2 = df.copy()"
   ]
  },
  {
   "cell_type": "code",
   "execution_count": 34,
   "metadata": {},
   "outputs": [
    {
     "data": {
      "text/plain": [
       "<matplotlib.axes._subplots.AxesSubplot at 0x1d05a361d08>"
      ]
     },
     "execution_count": 34,
     "metadata": {},
     "output_type": "execute_result"
    },
    {
     "data": {
      "image/png": "[encoded data removed]",
      "text/plain": [
       "<Figure size 432x288 with 1 Axes>"
      ]
     },
     "metadata": {
      "needs_background": "light"
     },
     "output_type": "display_data"
    }
   ],
   "source": [
    "muestra2.plot(kind = 'bar', title=\"Consumo por dia L-V\")"
   ]
  },
  {
   "cell_type": "code",
   "execution_count": 35,
   "metadata": {},
   "outputs": [],
   "source": [
    "df = pd.read_excel(r\"C:\\Users\\6QV38LA_RS6\\OneDrive\\Documentos\\Python Scripts\\Proyecto IoT\\DatosVentiladoresConsumo.xlsx\", index_col=\"Ventiladores Convencionales\")"
   ]
  },
  {
   "cell_type": "code",
   "execution_count": 36,
   "metadata": {},
   "outputs": [
    {
     "data": {
      "text/html": [
       "<div>\n",
       "<style scoped>\n",
       "    .dataframe tbody tr th:only-of-type {\n",
       "        vertical-align: middle;\n",
       "    }\n",
       "\n",
       "    .dataframe tbody tr th {\n",
       "        vertical-align: top;\n",
       "    }\n",
       "\n",
       "    .dataframe thead th {\n",
       "        text-align: right;\n",
       "    }\n",
       "</style>\n",
       "<table border=\"1\" class=\"dataframe\">\n",
       "  <thead>\n",
       "    <tr style=\"text-align: right;\">\n",
       "      <th></th>\n",
       "      <th>TiempoxDia</th>\n",
       "      <th>Costo Bas</th>\n",
       "      <th>Costo Int</th>\n",
       "      <th>Costo Exce</th>\n",
       "    </tr>\n",
       "    <tr>\n",
       "      <th>Ventiladores Convencionales</th>\n",
       "      <th></th>\n",
       "      <th></th>\n",
       "      <th></th>\n",
       "      <th></th>\n",
       "    </tr>\n",
       "  </thead>\n",
       "  <tbody>\n",
       "    <tr>\n",
       "      <th>Mesa</th>\n",
       "      <td>8</td>\n",
       "      <td>0.30276</td>\n",
       "      <td>0.36576</td>\n",
       "      <td>1.07136</td>\n",
       "    </tr>\n",
       "    <tr>\n",
       "      <th>Torre</th>\n",
       "      <td>8</td>\n",
       "      <td>0.43732</td>\n",
       "      <td>0.52832</td>\n",
       "      <td>1.54752</td>\n",
       "    </tr>\n",
       "    <tr>\n",
       "      <th>Techo</th>\n",
       "      <td>8</td>\n",
       "      <td>0.47096</td>\n",
       "      <td>0.56896</td>\n",
       "      <td>1.66656</td>\n",
       "    </tr>\n",
       "    <tr>\n",
       "      <th>Extractor</th>\n",
       "      <td>8</td>\n",
       "      <td>0.47096</td>\n",
       "      <td>0.56896</td>\n",
       "      <td>1.66656</td>\n",
       "    </tr>\n",
       "  </tbody>\n",
       "</table>\n",
       "</div>"
      ],
      "text/plain": [
       "                             TiempoxDia  Costo Bas  Costo Int  Costo Exce\n",
       "Ventiladores Convencionales                                              \n",
       "Mesa                                  8    0.30276    0.36576     1.07136\n",
       "Torre                                 8    0.43732    0.52832     1.54752\n",
       "Techo                                 8    0.47096    0.56896     1.66656\n",
       "Extractor                             8    0.47096    0.56896     1.66656"
      ]
     },
     "execution_count": 36,
     "metadata": {},
     "output_type": "execute_result"
    }
   ],
   "source": [
    "df.head()"
   ]
  },
  {
   "cell_type": "code",
   "execution_count": 37,
   "metadata": {},
   "outputs": [],
   "source": [
    "muestra3 = df.copy()"
   ]
  },
  {
   "cell_type": "code",
   "execution_count": 38,
   "metadata": {},
   "outputs": [
    {
     "data": {
      "text/plain": [
       "<matplotlib.axes._subplots.AxesSubplot at 0x1d05a400708>"
      ]
     },
     "execution_count": 38,
     "metadata": {},
     "output_type": "execute_result"
    },
    {
     "data": {
      "image/png": "[encoded data removed]",
      "text/plain": [
       "<Figure size 432x288 with 1 Axes>"
      ]
     },
     "metadata": {
      "needs_background": "light"
     },
     "output_type": "display_data"
    }
   ],
   "source": [
    "muestra3.plot(kind = 'bar', title=\"Consumo por dia fin de semana S-D\")"
   ]
  },
  {
   "cell_type": "code",
   "execution_count": 39,
   "metadata": {},
   "outputs": [],
   "source": [
    "df = pd.read_excel(r\"C:\\Users\\6QV38LA_RS6\\OneDrive\\Documentos\\Python Scripts\\Proyecto IoT\\DatosVentiladoresMens.xlsx\", index_col=\"Ventiladores Convencionales\")"
   ]
  },
  {
   "cell_type": "code",
   "execution_count": 40,
   "metadata": {},
   "outputs": [
    {
     "data": {
      "text/html": [
       "<div>\n",
       "<style scoped>\n",
       "    .dataframe tbody tr th:only-of-type {\n",
       "        vertical-align: middle;\n",
       "    }\n",
       "\n",
       "    .dataframe tbody tr th {\n",
       "        vertical-align: top;\n",
       "    }\n",
       "\n",
       "    .dataframe thead th {\n",
       "        text-align: right;\n",
       "    }\n",
       "</style>\n",
       "<table border=\"1\" class=\"dataframe\">\n",
       "  <thead>\n",
       "    <tr style=\"text-align: right;\">\n",
       "      <th></th>\n",
       "      <th>Costo Bas</th>\n",
       "      <th>Costo Int</th>\n",
       "      <th>Costo Exce</th>\n",
       "    </tr>\n",
       "    <tr>\n",
       "      <th>Ventiladores Convencionales</th>\n",
       "      <th></th>\n",
       "      <th></th>\n",
       "      <th></th>\n",
       "    </tr>\n",
       "  </thead>\n",
       "  <tbody>\n",
       "    <tr>\n",
       "      <th>Mesa</th>\n",
       "      <td>6.96</td>\n",
       "      <td>8.41</td>\n",
       "      <td>24.64</td>\n",
       "    </tr>\n",
       "    <tr>\n",
       "      <th>Torre</th>\n",
       "      <td>10.06</td>\n",
       "      <td>12.15</td>\n",
       "      <td>35.59</td>\n",
       "    </tr>\n",
       "    <tr>\n",
       "      <th>Techo</th>\n",
       "      <td>10.83</td>\n",
       "      <td>13.09</td>\n",
       "      <td>38.33</td>\n",
       "    </tr>\n",
       "    <tr>\n",
       "      <th>Extractor</th>\n",
       "      <td>10.83</td>\n",
       "      <td>13.09</td>\n",
       "      <td>38.33</td>\n",
       "    </tr>\n",
       "  </tbody>\n",
       "</table>\n",
       "</div>"
      ],
      "text/plain": [
       "                             Costo Bas  Costo Int  Costo Exce\n",
       "Ventiladores Convencionales                                  \n",
       "Mesa                              6.96       8.41       24.64\n",
       "Torre                            10.06      12.15       35.59\n",
       "Techo                            10.83      13.09       38.33\n",
       "Extractor                        10.83      13.09       38.33"
      ]
     },
     "execution_count": 40,
     "metadata": {},
     "output_type": "execute_result"
    }
   ],
   "source": [
    "df.head()"
   ]
  },
  {
   "cell_type": "code",
   "execution_count": 41,
   "metadata": {},
   "outputs": [],
   "source": [
    "muestraTot = df.copy()"
   ]
  },
  {
   "cell_type": "code",
   "execution_count": 42,
   "metadata": {},
   "outputs": [
    {
     "data": {
      "text/plain": [
       "<matplotlib.axes._subplots.AxesSubplot at 0x1d05a4a4a48>"
      ]
     },
     "execution_count": 42,
     "metadata": {},
     "output_type": "execute_result"
    },
    {
     "data": {
      "image/png": "[encoded data removed]",
      "text/plain": [
       "<Figure size 432x288 with 1 Axes>"
      ]
     },
     "metadata": {
      "needs_background": "light"
     },
     "output_type": "display_data"
    }
   ],
   "source": [
    "muestraTot.plot(kind = 'bar', title=\"Consumo mensual\") "
   ]
  }
 ],
 "metadata": {
  "kernelspec": {
   "display_name": "Python 3",
   "language": "python",
   "name": "python3"
  },
  "language_info": {
   "codemirror_mode": {
    "name": "ipython",
    "version": 3
   },
   "file_extension": ".py",
   "mimetype": "text/x-python",
   "name": "python",
   "nbconvert_exporter": "python",
   "pygments_lexer": "ipython3",
   "version": "3.7.6"
  }
 },
 "nbformat": 4,
 "nbformat_minor": 4
}
