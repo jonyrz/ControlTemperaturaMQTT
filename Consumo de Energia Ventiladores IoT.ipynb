{
 "cells": [
  {
   "cell_type": "code",
   "execution_count": 39,
   "metadata": {},
   "outputs": [],
   "source": [
    "import csv\n",
    "import pandas as pd\n",
    "import matplotlib.pyplot as plt"
   ]
  },
  {
   "cell_type": "code",
   "execution_count": 40,
   "metadata": {},
   "outputs": [],
   "source": [
    "df = pd.read_excel(r\"C:\\Users\\6QV38LA_RS6\\OneDrive\\Documentos\\Python Scripts\\Proyecto IoT\\DatosIoT.xlsx\", index_col=\"Ventiladores IoT\")"
   ]
  },
  {
   "cell_type": "code",
   "execution_count": 41,
   "metadata": {},
   "outputs": [
    {
     "data": {
      "text/html": [
       "<div>\n",
       "<style scoped>\n",
       "    .dataframe tbody tr th:only-of-type {\n",
       "        vertical-align: middle;\n",
       "    }\n",
       "\n",
       "    .dataframe tbody tr th {\n",
       "        vertical-align: top;\n",
       "    }\n",
       "\n",
       "    .dataframe thead th {\n",
       "        text-align: right;\n",
       "    }\n",
       "</style>\n",
       "<table border=\"1\" class=\"dataframe\">\n",
       "  <thead>\n",
       "    <tr style=\"text-align: right;\">\n",
       "      <th></th>\n",
       "      <th>PotenciaPromedio</th>\n",
       "    </tr>\n",
       "    <tr>\n",
       "      <th>Ventiladores IoT</th>\n",
       "      <th></th>\n",
       "    </tr>\n",
       "  </thead>\n",
       "  <tbody>\n",
       "    <tr>\n",
       "      <th>Grid</th>\n",
       "      <td>32</td>\n",
       "    </tr>\n",
       "    <tr>\n",
       "      <th>Bernat</th>\n",
       "      <td>38</td>\n",
       "    </tr>\n",
       "    <tr>\n",
       "      <th>Bombay</th>\n",
       "      <td>36</td>\n",
       "    </tr>\n",
       "  </tbody>\n",
       "</table>\n",
       "</div>"
      ],
      "text/plain": [
       "                  PotenciaPromedio\n",
       "Ventiladores IoT                  \n",
       "Grid                            32\n",
       "Bernat                          38\n",
       "Bombay                          36"
      ]
     },
     "execution_count": 41,
     "metadata": {},
     "output_type": "execute_result"
    }
   ],
   "source": [
    "df.head()"
   ]
  },
  {
   "cell_type": "code",
   "execution_count": 42,
   "metadata": {},
   "outputs": [],
   "source": [
    "muestra = df.copy()"
   ]
  },
  {
   "cell_type": "code",
   "execution_count": 43,
   "metadata": {},
   "outputs": [
    {
     "data": {
      "text/plain": [
       "<matplotlib.axes._subplots.AxesSubplot at 0x1c14f51ba08>"
      ]
     },
     "execution_count": 43,
     "metadata": {},
     "output_type": "execute_result"
    },
    {
     "data": {
      "image/png": "[encoded data removed]",
      "text/plain": [
       "<Figure size 432x288 with 1 Axes>"
      ]
     },
     "metadata": {
      "needs_background": "light"
     },
     "output_type": "display_data"
    }
   ],
   "source": [
    "muestra.plot(kind = 'bar', title=\"Consumo de cada ventilador\")"
   ]
  },
  {
   "cell_type": "code",
   "execution_count": 44,
   "metadata": {},
   "outputs": [],
   "source": [
    "df = pd.read_excel(r\"C:\\Users\\6QV38LA_RS6\\OneDrive\\Documentos\\Python Scripts\\Proyecto IoT\\DatosIoTLV.xlsx\", index_col=\"Ventiladores IoT\")"
   ]
  },
  {
   "cell_type": "code",
   "execution_count": 45,
   "metadata": {},
   "outputs": [
    {
     "data": {
      "text/html": [
       "<div>\n",
       "<style scoped>\n",
       "    .dataframe tbody tr th:only-of-type {\n",
       "        vertical-align: middle;\n",
       "    }\n",
       "\n",
       "    .dataframe tbody tr th {\n",
       "        vertical-align: top;\n",
       "    }\n",
       "\n",
       "    .dataframe thead th {\n",
       "        text-align: right;\n",
       "    }\n",
       "</style>\n",
       "<table border=\"1\" class=\"dataframe\">\n",
       "  <thead>\n",
       "    <tr style=\"text-align: right;\">\n",
       "      <th></th>\n",
       "      <th>TiempoxDia</th>\n",
       "      <th>Costo Bas</th>\n",
       "      <th>Costo Int</th>\n",
       "      <th>Costo Exce</th>\n",
       "    </tr>\n",
       "    <tr>\n",
       "      <th>Ventiladores IoT</th>\n",
       "      <th></th>\n",
       "      <th></th>\n",
       "      <th></th>\n",
       "      <th></th>\n",
       "    </tr>\n",
       "  </thead>\n",
       "  <tbody>\n",
       "    <tr>\n",
       "      <th>Grid</th>\n",
       "      <td>6</td>\n",
       "      <td>0.161472</td>\n",
       "      <td>0.195072</td>\n",
       "      <td>0.571392</td>\n",
       "    </tr>\n",
       "    <tr>\n",
       "      <th>Bernat</th>\n",
       "      <td>6</td>\n",
       "      <td>0.191748</td>\n",
       "      <td>0.231648</td>\n",
       "      <td>0.678528</td>\n",
       "    </tr>\n",
       "    <tr>\n",
       "      <th>Bombay</th>\n",
       "      <td>6</td>\n",
       "      <td>0.181656</td>\n",
       "      <td>0.219456</td>\n",
       "      <td>0.642816</td>\n",
       "    </tr>\n",
       "  </tbody>\n",
       "</table>\n",
       "</div>"
      ],
      "text/plain": [
       "                  TiempoxDia  Costo Bas  Costo Int  Costo Exce\n",
       "Ventiladores IoT                                              \n",
       "Grid                       6   0.161472   0.195072    0.571392\n",
       "Bernat                     6   0.191748   0.231648    0.678528\n",
       "Bombay                     6   0.181656   0.219456    0.642816"
      ]
     },
     "execution_count": 45,
     "metadata": {},
     "output_type": "execute_result"
    }
   ],
   "source": [
    "df.head()"
   ]
  },
  {
   "cell_type": "code",
   "execution_count": 46,
   "metadata": {},
   "outputs": [],
   "source": [
    "muestra2 = df.copy()"
   ]
  },
  {
   "cell_type": "code",
   "execution_count": 47,
   "metadata": {},
   "outputs": [
    {
     "data": {
      "text/plain": [
       "<matplotlib.axes._subplots.AxesSubplot at 0x1c14f5a7748>"
      ]
     },
     "execution_count": 47,
     "metadata": {},
     "output_type": "execute_result"
    },
    {
     "data": {
      "image/png": "[encoded data removed]",
      "text/plain": [
       "<Figure size 432x288 with 1 Axes>"
      ]
     },
     "metadata": {
      "needs_background": "light"
     },
     "output_type": "display_data"
    }
   ],
   "source": [
    "muestra2.plot(kind = 'bar', title=\"Consumo por dia L-V\")"
   ]
  },
  {
   "cell_type": "code",
   "execution_count": 48,
   "metadata": {},
   "outputs": [],
   "source": [
    "df = pd.read_excel(r\"C:\\Users\\6QV38LA_RS6\\OneDrive\\Documentos\\Python Scripts\\Proyecto IoT\\DatosIoTSD.xlsx\", index_col=\"Ventiladores IoT\")"
   ]
  },
  {
   "cell_type": "code",
   "execution_count": 49,
   "metadata": {},
   "outputs": [
    {
     "data": {
      "text/html": [
       "<div>\n",
       "<style scoped>\n",
       "    .dataframe tbody tr th:only-of-type {\n",
       "        vertical-align: middle;\n",
       "    }\n",
       "\n",
       "    .dataframe tbody tr th {\n",
       "        vertical-align: top;\n",
       "    }\n",
       "\n",
       "    .dataframe thead th {\n",
       "        text-align: right;\n",
       "    }\n",
       "</style>\n",
       "<table border=\"1\" class=\"dataframe\">\n",
       "  <thead>\n",
       "    <tr style=\"text-align: right;\">\n",
       "      <th></th>\n",
       "      <th>TiempoxDia</th>\n",
       "      <th>Costo Bas</th>\n",
       "      <th>Costo Int</th>\n",
       "      <th>Costo Exce</th>\n",
       "    </tr>\n",
       "    <tr>\n",
       "      <th>Ventiladores IoT</th>\n",
       "      <th></th>\n",
       "      <th></th>\n",
       "      <th></th>\n",
       "      <th></th>\n",
       "    </tr>\n",
       "  </thead>\n",
       "  <tbody>\n",
       "    <tr>\n",
       "      <th>Grid</th>\n",
       "      <td>8</td>\n",
       "      <td>0.215296</td>\n",
       "      <td>0.260096</td>\n",
       "      <td>0.761856</td>\n",
       "    </tr>\n",
       "    <tr>\n",
       "      <th>Bernat</th>\n",
       "      <td>8</td>\n",
       "      <td>0.255664</td>\n",
       "      <td>0.308864</td>\n",
       "      <td>0.904704</td>\n",
       "    </tr>\n",
       "    <tr>\n",
       "      <th>Bombay</th>\n",
       "      <td>8</td>\n",
       "      <td>0.242208</td>\n",
       "      <td>0.292608</td>\n",
       "      <td>0.857088</td>\n",
       "    </tr>\n",
       "  </tbody>\n",
       "</table>\n",
       "</div>"
      ],
      "text/plain": [
       "                  TiempoxDia  Costo Bas  Costo Int  Costo Exce\n",
       "Ventiladores IoT                                              \n",
       " Grid                      8   0.215296   0.260096    0.761856\n",
       "Bernat                     8   0.255664   0.308864    0.904704\n",
       "Bombay                     8   0.242208   0.292608    0.857088"
      ]
     },
     "execution_count": 49,
     "metadata": {},
     "output_type": "execute_result"
    }
   ],
   "source": [
    "df.head()"
   ]
  },
  {
   "cell_type": "code",
   "execution_count": 50,
   "metadata": {},
   "outputs": [],
   "source": [
    "muestra3 = df.copy()"
   ]
  },
  {
   "cell_type": "code",
   "execution_count": 51,
   "metadata": {},
   "outputs": [
    {
     "data": {
      "text/plain": [
       "<matplotlib.axes._subplots.AxesSubplot at 0x1c14f639bc8>"
      ]
     },
     "execution_count": 51,
     "metadata": {},
     "output_type": "execute_result"
    },
    {
     "data": {
      "image/png": "[encoded data removed]",
      "text/plain": [
       "<Figure size 432x288 with 1 Axes>"
      ]
     },
     "metadata": {
      "needs_background": "light"
     },
     "output_type": "display_data"
    }
   ],
   "source": [
    "muestra3.plot(kind = 'bar', title=\"Consumo por dia fin de semana S-D\")"
   ]
  },
  {
   "cell_type": "code",
   "execution_count": 52,
   "metadata": {},
   "outputs": [],
   "source": [
    "df = pd.read_excel(r\"C:\\Users\\6QV38LA_RS6\\OneDrive\\Documentos\\Python Scripts\\Proyecto IoT\\DatosIoTMes.xlsx\", index_col=\"Ventiladores IoT\")"
   ]
  },
  {
   "cell_type": "code",
   "execution_count": 53,
   "metadata": {},
   "outputs": [
    {
     "data": {
      "text/html": [
       "<div>\n",
       "<style scoped>\n",
       "    .dataframe tbody tr th:only-of-type {\n",
       "        vertical-align: middle;\n",
       "    }\n",
       "\n",
       "    .dataframe tbody tr th {\n",
       "        vertical-align: top;\n",
       "    }\n",
       "\n",
       "    .dataframe thead th {\n",
       "        text-align: right;\n",
       "    }\n",
       "</style>\n",
       "<table border=\"1\" class=\"dataframe\">\n",
       "  <thead>\n",
       "    <tr style=\"text-align: right;\">\n",
       "      <th></th>\n",
       "      <th>Costo Bas</th>\n",
       "      <th>Costo Int</th>\n",
       "      <th>Costo Exce</th>\n",
       "    </tr>\n",
       "    <tr>\n",
       "      <th>Ventiladores IoT</th>\n",
       "      <th></th>\n",
       "      <th></th>\n",
       "      <th></th>\n",
       "    </tr>\n",
       "  </thead>\n",
       "  <tbody>\n",
       "    <tr>\n",
       "      <th>Grid</th>\n",
       "      <td>4.951808</td>\n",
       "      <td>5.982208</td>\n",
       "      <td>23.617536</td>\n",
       "    </tr>\n",
       "    <tr>\n",
       "      <th>Bernat</th>\n",
       "      <td>5.880272</td>\n",
       "      <td>7.103872</td>\n",
       "      <td>28.045824</td>\n",
       "    </tr>\n",
       "    <tr>\n",
       "      <th>Bombay</th>\n",
       "      <td>5.570784</td>\n",
       "      <td>6.729984</td>\n",
       "      <td>26.569728</td>\n",
       "    </tr>\n",
       "  </tbody>\n",
       "</table>\n",
       "</div>"
      ],
      "text/plain": [
       "                  Costo Bas  Costo Int  Costo Exce\n",
       "Ventiladores IoT                                  \n",
       " Grid              4.951808   5.982208   23.617536\n",
       "Bernat             5.880272   7.103872   28.045824\n",
       "Bombay             5.570784   6.729984   26.569728"
      ]
     },
     "execution_count": 53,
     "metadata": {},
     "output_type": "execute_result"
    }
   ],
   "source": [
    "df.head()"
   ]
  },
  {
   "cell_type": "code",
   "execution_count": 54,
   "metadata": {},
   "outputs": [],
   "source": [
    "muestraTot = df.copy()"
   ]
  },
  {
   "cell_type": "code",
   "execution_count": 55,
   "metadata": {},
   "outputs": [
    {
     "data": {
      "text/plain": [
       "<matplotlib.axes._subplots.AxesSubplot at 0x1c14f6c4588>"
      ]
     },
     "execution_count": 55,
     "metadata": {},
     "output_type": "execute_result"
    },
    {
     "data": {
      "image/png": "[encoded data removed]",
      "text/plain": [
       "<Figure size 432x288 with 1 Axes>"
      ]
     },
     "metadata": {
      "needs_background": "light"
     },
     "output_type": "display_data"
    }
   ],
   "source": [
    "muestraTot.plot(kind = 'bar', title=\"Consumo mensual\")"
   ]
  }
 ],
 "metadata": {
  "kernelspec": {
   "display_name": "Python 3",
   "language": "python",
   "name": "python3"
  },
  "language_info": {
   "codemirror_mode": {
    "name": "ipython",
    "version": 3
   },
   "file_extension": ".py",
   "mimetype": "text/x-python",
   "name": "python",
   "nbconvert_exporter": "python",
   "pygments_lexer": "ipython3",
   "version": "3.7.6"
  }
 },
 "nbformat": 4,
 "nbformat_minor": 4
}
